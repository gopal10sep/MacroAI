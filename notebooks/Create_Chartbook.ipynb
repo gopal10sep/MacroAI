{
 "cells": [
  {
   "cell_type": "code",
   "execution_count": 85,
   "id": "d77a7a57-0524-4a81-a3c3-8b79f7c9fbff",
   "metadata": {},
   "outputs": [],
   "source": [
    "import os\n",
    "from reportlab.lib.pagesizes import landscape, letter\n",
    "from reportlab.pdfgen import canvas \n",
    "from reportlab.pdfbase.ttfonts import TTFont\n",
    "from reportlab.pdfbase import pdfmetrics\n",
    "\n",
    "path_to_baskerville = os.path.abspath('..') + os.sep + 'utils' + os.sep + 'Baskervville-Regular.ttf'\n",
    "pdfmetrics.registerFont(TTFont('Baskerville', path_to_baskerville))\n",
    "chart_loc = os.path.abspath('..') + os.sep + 'charts' + os.sep"
   ]
  },
  {
   "cell_type": "code",
   "execution_count": 86,
   "id": "1db12ae3-56c2-4007-8ea5-8a32b05fdf1d",
   "metadata": {},
   "outputs": [],
   "source": [
    "# Function to add a page with the specified content\n",
    "def add_page(pdf, title, subtitle, chart_paths, page_number):\n",
    "    # Add title\n",
    "    pdf.setFont(\"Baskerville\", 25)\n",
    "    pdf.drawString(30, 570, title)\n",
    "\n",
    "    # Add subtitle\n",
    "    pdf.setFont(\"Baskerville\", 16)\n",
    "    pdf.drawString(30, 550, subtitle)\n",
    "    pdf.line(30, 540, 762, 540)  # Horizontal line\n",
    "\n",
    "    # Add charts\n",
    "    chart_width = 350\n",
    "    chart_height = 230\n",
    "    positions = [(30, 300), (412, 300), (30, 50), (412, 50)]  # Positions for charts\n",
    "    for i, chart_path in enumerate(chart_paths):\n",
    "        if chart_path is not None:\n",
    "            x, y = positions[i]\n",
    "            pdf.drawImage(chart_path, x, y, width=chart_width, height=chart_height)\n",
    "\n",
    "    # Add page number\n",
    "    pdf.setFont(\"Baskerville\", 10)\n",
    "    pdf.drawString(30, 10, f\"Page {page_number}\")\n",
    "    pdf.drawString(700, 10, \"Updated: \")"
   ]
  },
  {
   "cell_type": "code",
   "execution_count": 87,
   "id": "59084d26-dd8f-44c7-9b15-19448ac18f7e",
   "metadata": {},
   "outputs": [],
   "source": [
    "# Create a PDF document\n",
    "today_timestamp = datetime.now()\n",
    "today_timestamp_str = today_timestamp.strftime(\"%Y%m%d%H%M%S\")\n",
    "chartbook_loc = os.path.abspath('..') + os.sep + 'chartbook' + os.sep + 'chartbook_'+ today_timestamp_str + '.pdf'\n",
    "\n",
    "# Create PDF\n",
    "pdf = canvas.Canvas(chartbook_loc, pagesize=landscape(letter))"
   ]
  },
  {
   "cell_type": "code",
   "execution_count": 88,
   "id": "432697db-da4c-4fb1-ad2c-db49177748ad",
   "metadata": {},
   "outputs": [],
   "source": [
    "# Define content for page 1\n",
    "title = \"Univ of Michigan Indices\"\n",
    "subtitle = \"Consumer feel confident going into the new year\"\n",
    "chart_paths = [chart_loc + \"umich_consumer_sentiment.jpg\", \n",
    "               chart_loc + \"umich_current_conditions.jpg\", \n",
    "               chart_loc + \"umich_inflation_expectations.jpg\",\n",
    "               None]\n",
    "add_page(pdf, title, subtitle, chart_paths, 1)\n",
    "\n",
    "# Save page 1 and start a new page\n",
    "pdf.showPage()\n",
    "\n",
    "# Define content for page 2\n",
    "title = \"Title for Page 2\"\n",
    "subtitle = \"Subtitle for Page 2\"\n",
    "chart_paths = [None, None, None, None]  # No charts for page 2\n",
    "add_page(pdf, title, subtitle, chart_paths, 2)\n",
    "\n",
    "# Save PDF\n",
    "pdf.save()"
   ]
  },
  {
   "cell_type": "code",
   "execution_count": null,
   "id": "46035d41-ea85-4ee3-b5e9-b4eb78e2f18b",
   "metadata": {},
   "outputs": [],
   "source": []
  },
  {
   "cell_type": "code",
   "execution_count": null,
   "id": "439f850e-897f-4f5a-9bda-d70ccce20239",
   "metadata": {},
   "outputs": [],
   "source": []
  }
 ],
 "metadata": {
  "kernelspec": {
   "display_name": "Python 3 (ipykernel)",
   "language": "python",
   "name": "python3"
  },
  "language_info": {
   "codemirror_mode": {
    "name": "ipython",
    "version": 3
   },
   "file_extension": ".py",
   "mimetype": "text/x-python",
   "name": "python",
   "nbconvert_exporter": "python",
   "pygments_lexer": "ipython3",
   "version": "3.12.1"
  }
 },
 "nbformat": 4,
 "nbformat_minor": 5
}
