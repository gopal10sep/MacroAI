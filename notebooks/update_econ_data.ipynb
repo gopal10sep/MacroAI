{
 "cells": [
  {
   "cell_type": "code",
   "execution_count": 6,
   "id": "a95db93e-81e1-431b-aaec-e5a5ce0694f7",
   "metadata": {},
   "outputs": [],
   "source": [
    "import pandas as pd\n",
    "from pathlib import Path\n",
    "\n",
    "data_dir = \"..//database//\""
   ]
  },
  {
   "cell_type": "markdown",
   "id": "5bf06f40-8a49-4d60-bd66-ff4ce7857fdb",
   "metadata": {},
   "source": [
    "### University of Michigan Survey of Consumers"
   ]
  },
  {
   "cell_type": "code",
   "execution_count": 7,
   "id": "ffc320a9-0068-4420-8645-d925f0efd666",
   "metadata": {},
   "outputs": [],
   "source": [
    "### University of Michigan Consumer Sentiment\n",
    "data_url = 'http://www.sca.isr.umich.edu/files/tbmics.csv'\n",
    "df = pd.read_csv(data_url)\n",
    "df['date'] = pd.to_datetime(df['Month'] + ' ' + df['YYYY'].astype('str'))\n",
    "df.set_index('date', inplace=True)\n",
    "data = df.loc[:, ['ICS_ALL']]\n",
    "data.columns = ['U.Mich: Consumer sentiment']\n",
    "data.to_csv(data_dir + 'umich_cons_senti.csv', index_label='date', header=True)\n",
    "\n",
    "### Current conditions and expections\n",
    "data_url = 'http://www.sca.isr.umich.edu/files/tbmiccice.csv'\n",
    "df = pd.read_csv(data_url)\n",
    "df['date'] = pd.to_datetime(df['Month'] + ' ' + df['YYYY'].astype(str))\n",
    "df.set_index('date', inplace=True)\n",
    "# Select columns for Current Conditions and Consumer Expectations\n",
    "selected_columns = ['ICC', 'ICE']\n",
    "df_selected = df[selected_columns]\n",
    "df_selected.columns = ['U.Mich: Current Conditions','U.Mich: Consumer Expectations']\n",
    "df_selected.to_csv(data_dir + 'umich_cond_expec.csv', index_label='date')\n",
    "\n",
    "### Inflation Expecations (One and Five Years Ahead)\n",
    "# Historical data\n",
    "historical_url = 'http://www.sca.isr.umich.edu/files/tbmpx1px5.csv'\n",
    "historical_df = pd.read_csv(historical_url)\n",
    "historical_df.index = pd.to_datetime(historical_df['Month'] + ' ' + historical_df['YYYY'].astype(str))\n",
    "historical_df.drop(['Month', 'YYYY'], axis=1, inplace=True)\n",
    "\n",
    "# Latest data\n",
    "latest_url = 'http://www.sca.isr.umich.edu/files/tbcpx1px5.csv'\n",
    "latest_df = pd.read_csv(latest_url, skiprows=3).dropna(axis=1, how='all').dropna()\n",
    "latest_df.columns = ['Month', 'YYYY', 'PX_MD', 'PX5_MD']\n",
    "latest_df.index = pd.to_datetime(latest_df['Month'] + ' ' + latest_df['YYYY'].astype(int).astype(str))\n",
    "latest_df.drop(['Month', 'YYYY'], axis=1, inplace=True)\n",
    "\n",
    "# Combine historical and latest data\n",
    "if latest_df.index[-1] not in historical_df.index:\n",
    "    historical_df = pd.concat([historical_df, latest_df.iloc[-1:].copy()])\n",
    "\n",
    "historical_df.columns = ['U.Mich: Inflation expectations (1 year ahead)','U.Mich: Inflation expectations (5 years ahead)']\n",
    "# Save inflation expectations (one and five years ahead)\n",
    "historical_df.loc[:].to_csv(data_dir + 'umich_infl_expec.csv', index_label='date')"
   ]
  },
  {
   "cell_type": "code",
   "execution_count": 15,
   "id": "1e575407-ed97-4388-ad27-6a00dc046e30",
   "metadata": {},
   "outputs": [
    {
     "data": {
      "text/html": [
       "<div>\n",
       "<style scoped>\n",
       "    .dataframe tbody tr th:only-of-type {\n",
       "        vertical-align: middle;\n",
       "    }\n",
       "\n",
       "    .dataframe tbody tr th {\n",
       "        vertical-align: top;\n",
       "    }\n",
       "\n",
       "    .dataframe thead th {\n",
       "        text-align: right;\n",
       "    }\n",
       "</style>\n",
       "<table border=\"1\" class=\"dataframe\">\n",
       "  <thead>\n",
       "    <tr style=\"text-align: right;\">\n",
       "      <th></th>\n",
       "      <th>U.Mich: Consumer sentiment</th>\n",
       "    </tr>\n",
       "    <tr>\n",
       "      <th>date</th>\n",
       "      <th></th>\n",
       "    </tr>\n",
       "  </thead>\n",
       "  <tbody>\n",
       "    <tr>\n",
       "      <th>1952-11-01</th>\n",
       "      <td>86.2</td>\n",
       "    </tr>\n",
       "    <tr>\n",
       "      <th>1953-02-01</th>\n",
       "      <td>90.7</td>\n",
       "    </tr>\n",
       "    <tr>\n",
       "      <th>1953-08-01</th>\n",
       "      <td>80.8</td>\n",
       "    </tr>\n",
       "    <tr>\n",
       "      <th>1953-11-01</th>\n",
       "      <td>80.7</td>\n",
       "    </tr>\n",
       "    <tr>\n",
       "      <th>1954-02-01</th>\n",
       "      <td>82.0</td>\n",
       "    </tr>\n",
       "    <tr>\n",
       "      <th>...</th>\n",
       "      <td>...</td>\n",
       "    </tr>\n",
       "    <tr>\n",
       "      <th>2023-01-01</th>\n",
       "      <td>64.9</td>\n",
       "    </tr>\n",
       "    <tr>\n",
       "      <th>2023-02-01</th>\n",
       "      <td>67.0</td>\n",
       "    </tr>\n",
       "    <tr>\n",
       "      <th>2023-03-01</th>\n",
       "      <td>62.0</td>\n",
       "    </tr>\n",
       "    <tr>\n",
       "      <th>2023-04-01</th>\n",
       "      <td>63.5</td>\n",
       "    </tr>\n",
       "    <tr>\n",
       "      <th>2023-05-01</th>\n",
       "      <td>59.2</td>\n",
       "    </tr>\n",
       "  </tbody>\n",
       "</table>\n",
       "<p>637 rows × 1 columns</p>\n",
       "</div>"
      ],
      "text/plain": [
       "            U.Mich: Consumer sentiment\n",
       "date                                  \n",
       "1952-11-01                        86.2\n",
       "1953-02-01                        90.7\n",
       "1953-08-01                        80.8\n",
       "1953-11-01                        80.7\n",
       "1954-02-01                        82.0\n",
       "...                                ...\n",
       "2023-01-01                        64.9\n",
       "2023-02-01                        67.0\n",
       "2023-03-01                        62.0\n",
       "2023-04-01                        63.5\n",
       "2023-05-01                        59.2\n",
       "\n",
       "[637 rows x 1 columns]"
      ]
     },
     "execution_count": 15,
     "metadata": {},
     "output_type": "execute_result"
    }
   ],
   "source": [
    "data"
   ]
  },
  {
   "cell_type": "markdown",
   "id": "096633b1-28ef-4eaa-9872-4ecd0383f3c0",
   "metadata": {},
   "source": [
    "### CPI"
   ]
  },
  {
   "cell_type": "code",
   "execution_count": null,
   "id": "e5e27d05-7921-458e-bcf8-333ef26cc7b5",
   "metadata": {},
   "outputs": [],
   "source": []
  }
 ],
 "metadata": {
  "kernelspec": {
   "display_name": "Python 3 (ipykernel)",
   "language": "python",
   "name": "python3"
  },
  "language_info": {
   "codemirror_mode": {
    "name": "ipython",
    "version": 3
   },
   "file_extension": ".py",
   "mimetype": "text/x-python",
   "name": "python",
   "nbconvert_exporter": "python",
   "pygments_lexer": "ipython3",
   "version": "3.10.9"
  }
 },
 "nbformat": 4,
 "nbformat_minor": 5
}
